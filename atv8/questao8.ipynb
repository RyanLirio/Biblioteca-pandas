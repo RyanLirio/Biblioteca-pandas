{
 "cells": [
  {
   "cell_type": "code",
   "execution_count": 2,
   "id": "e33edbed",
   "metadata": {},
   "outputs": [
    {
     "data": {
      "text/html": [
       "<div>\n",
       "<style scoped>\n",
       "    .dataframe tbody tr th:only-of-type {\n",
       "        vertical-align: middle;\n",
       "    }\n",
       "\n",
       "    .dataframe tbody tr th {\n",
       "        vertical-align: top;\n",
       "    }\n",
       "\n",
       "    .dataframe thead th {\n",
       "        text-align: right;\n",
       "    }\n",
       "</style>\n",
       "<table border=\"1\" class=\"dataframe\">\n",
       "  <thead>\n",
       "    <tr style=\"text-align: right;\">\n",
       "      <th></th>\n",
       "      <th>lojas.lojas_nordeste</th>\n",
       "      <th>lojas.lojas_norte</th>\n",
       "    </tr>\n",
       "  </thead>\n",
       "  <tbody>\n",
       "    <tr>\n",
       "      <th>0</th>\n",
       "      <td>[{'id_loja': 9, 'nome_loja': 'Loja Iota', 'cid...</td>\n",
       "      <td>[{'id_loja': 11, 'nome_loja': 'Loja Lambda', '...</td>\n",
       "    </tr>\n",
       "  </tbody>\n",
       "</table>\n",
       "</div>"
      ],
      "text/plain": [
       "                                lojas.lojas_nordeste  \\\n",
       "0  [{'id_loja': 9, 'nome_loja': 'Loja Iota', 'cid...   \n",
       "\n",
       "                                   lojas.lojas_norte  \n",
       "0  [{'id_loja': 11, 'nome_loja': 'Loja Lambda', '...  "
      ]
     },
     "execution_count": 2,
     "metadata": {},
     "output_type": "execute_result"
    }
   ],
   "source": [
    "import pandas as pd\n",
    "import json\n",
    "\n",
    "with open('questao_8.json', 'r') as file:\n",
    "    data = json.load(file)\n",
    "\n",
    "df = pd.json_normalize(data)\n",
    "df"
   ]
  },
  {
   "cell_type": "code",
   "execution_count": 7,
   "id": "ef7a8660",
   "metadata": {},
   "outputs": [
    {
     "data": {
      "text/html": [
       "<div>\n",
       "<style scoped>\n",
       "    .dataframe tbody tr th:only-of-type {\n",
       "        vertical-align: middle;\n",
       "    }\n",
       "\n",
       "    .dataframe tbody tr th {\n",
       "        vertical-align: top;\n",
       "    }\n",
       "\n",
       "    .dataframe thead th {\n",
       "        text-align: right;\n",
       "    }\n",
       "</style>\n",
       "<table border=\"1\" class=\"dataframe\">\n",
       "  <thead>\n",
       "    <tr style=\"text-align: right;\">\n",
       "      <th></th>\n",
       "      <th>id_loja</th>\n",
       "      <th>nome_loja</th>\n",
       "      <th>cidade</th>\n",
       "      <th>estado</th>\n",
       "      <th>categoria</th>\n",
       "      <th>vendas_mensais</th>\n",
       "      <th>faturamento_mensal</th>\n",
       "    </tr>\n",
       "  </thead>\n",
       "  <tbody>\n",
       "    <tr>\n",
       "      <th>0</th>\n",
       "      <td>9</td>\n",
       "      <td>Loja Iota</td>\n",
       "      <td>Recife</td>\n",
       "      <td>PE</td>\n",
       "      <td>AcessÃ³rios</td>\n",
       "      <td>95</td>\n",
       "      <td>28500.0</td>\n",
       "    </tr>\n",
       "    <tr>\n",
       "      <th>1</th>\n",
       "      <td>10</td>\n",
       "      <td>Loja Kappa</td>\n",
       "      <td>Fortaleza</td>\n",
       "      <td>CE</td>\n",
       "      <td>Livros</td>\n",
       "      <td>180</td>\n",
       "      <td>54000.0</td>\n",
       "    </tr>\n",
       "    <tr>\n",
       "      <th>2</th>\n",
       "      <td>11</td>\n",
       "      <td>Loja Lambda</td>\n",
       "      <td>Manaus</td>\n",
       "      <td>AM</td>\n",
       "      <td>EletrÃ´nicos</td>\n",
       "      <td>220</td>\n",
       "      <td>110000.0</td>\n",
       "    </tr>\n",
       "    <tr>\n",
       "      <th>3</th>\n",
       "      <td>12</td>\n",
       "      <td>Loja Mu</td>\n",
       "      <td>BelÃ©m</td>\n",
       "      <td>PA</td>\n",
       "      <td>Roupas</td>\n",
       "      <td>160</td>\n",
       "      <td>48000.0</td>\n",
       "    </tr>\n",
       "  </tbody>\n",
       "</table>\n",
       "</div>"
      ],
      "text/plain": [
       "   id_loja    nome_loja     cidade estado     categoria  vendas_mensais  \\\n",
       "0        9    Loja Iota     Recife     PE   AcessÃ³rios              95   \n",
       "1       10   Loja Kappa  Fortaleza     CE        Livros             180   \n",
       "2       11  Loja Lambda     Manaus     AM  EletrÃ´nicos             220   \n",
       "3       12      Loja Mu     BelÃ©m     PA        Roupas             160   \n",
       "\n",
       "   faturamento_mensal  \n",
       "0             28500.0  \n",
       "1             54000.0  \n",
       "2            110000.0  \n",
       "3             48000.0  "
      ]
     },
     "execution_count": 7,
     "metadata": {},
     "output_type": "execute_result"
    }
   ],
   "source": [
    "df_nordeste = pd.json_normalize(data, record_path=['lojas', 'lojas_nordeste'], sep='_')\n",
    "df_norte = pd.json_normalize(data, record_path=['lojas', 'lojas_norte'], sep='_')\n",
    "df = pd.concat([df_nordeste, df_norte], ignore_index=True)\n",
    "df"
   ]
  }
 ],
 "metadata": {
  "kernelspec": {
   "display_name": "Python 3",
   "language": "python",
   "name": "python3"
  },
  "language_info": {
   "codemirror_mode": {
    "name": "ipython",
    "version": 3
   },
   "file_extension": ".py",
   "mimetype": "text/x-python",
   "name": "python",
   "nbconvert_exporter": "python",
   "pygments_lexer": "ipython3",
   "version": "3.11.9"
  }
 },
 "nbformat": 4,
 "nbformat_minor": 5
}
