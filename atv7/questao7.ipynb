{
 "cells": [
  {
   "cell_type": "code",
   "execution_count": 4,
   "id": "a6970b2c",
   "metadata": {},
   "outputs": [
    {
     "data": {
      "text/html": [
       "<div>\n",
       "<style scoped>\n",
       "    .dataframe tbody tr th:only-of-type {\n",
       "        vertical-align: middle;\n",
       "    }\n",
       "\n",
       "    .dataframe tbody tr th {\n",
       "        vertical-align: top;\n",
       "    }\n",
       "\n",
       "    .dataframe thead th {\n",
       "        text-align: right;\n",
       "    }\n",
       "</style>\n",
       "<table border=\"1\" class=\"dataframe\">\n",
       "  <thead>\n",
       "    <tr style=\"text-align: right;\">\n",
       "      <th></th>\n",
       "      <th>id_loja</th>\n",
       "      <th>nome_loja</th>\n",
       "      <th>cidade</th>\n",
       "      <th>estado</th>\n",
       "      <th>categoria</th>\n",
       "      <th>vendas_mensais</th>\n",
       "      <th>faturamento_mensal</th>\n",
       "    </tr>\n",
       "  </thead>\n",
       "  <tbody>\n",
       "    <tr>\n",
       "      <th>0</th>\n",
       "      <td>1</td>\n",
       "      <td>Loja Alpha</td>\n",
       "      <td>SÃ£o Paulo</td>\n",
       "      <td>SP</td>\n",
       "      <td>EletrÃ´nicos</td>\n",
       "      <td>150</td>\n",
       "      <td>45000.0</td>\n",
       "    </tr>\n",
       "    <tr>\n",
       "      <th>1</th>\n",
       "      <td>2</td>\n",
       "      <td>Loja Beta</td>\n",
       "      <td>Rio de Janeiro</td>\n",
       "      <td>RJ</td>\n",
       "      <td>Roupas</td>\n",
       "      <td>200</td>\n",
       "      <td>60000.0</td>\n",
       "    </tr>\n",
       "    <tr>\n",
       "      <th>2</th>\n",
       "      <td>3</td>\n",
       "      <td>Loja Gamma</td>\n",
       "      <td>Belo Horizonte</td>\n",
       "      <td>MG</td>\n",
       "      <td>CalÃ§ados</td>\n",
       "      <td>120</td>\n",
       "      <td>36000.0</td>\n",
       "    </tr>\n",
       "    <tr>\n",
       "      <th>3</th>\n",
       "      <td>4</td>\n",
       "      <td>Loja Delta</td>\n",
       "      <td>Curitiba</td>\n",
       "      <td>PR</td>\n",
       "      <td>AcessÃ³rios</td>\n",
       "      <td>80</td>\n",
       "      <td>24000.0</td>\n",
       "    </tr>\n",
       "  </tbody>\n",
       "</table>\n",
       "</div>"
      ],
      "text/plain": [
       "   id_loja   nome_loja          cidade estado     categoria  vendas_mensais  \\\n",
       "0        1  Loja Alpha      SÃ£o Paulo     SP  EletrÃ´nicos             150   \n",
       "1        2   Loja Beta  Rio de Janeiro     RJ        Roupas             200   \n",
       "2        3  Loja Gamma  Belo Horizonte     MG     CalÃ§ados             120   \n",
       "3        4  Loja Delta        Curitiba     PR   AcessÃ³rios              80   \n",
       "\n",
       "   faturamento_mensal  \n",
       "0             45000.0  \n",
       "1             60000.0  \n",
       "2             36000.0  \n",
       "3             24000.0  "
      ]
     },
     "execution_count": 4,
     "metadata": {},
     "output_type": "execute_result"
    }
   ],
   "source": [
    "import pandas as pd\n",
    "import json\n",
    "\n",
    "with open('questao_7.json', 'r') as file:\n",
    "    data = json.load(file)\n",
    "\n",
    "df_sudeste = pd.json_normalize(data, record_path='lojas_sudeste', sep='_')\n",
    "df_sul = pd.json_normalize(data, record_path='lojas_sul', sep='_')\n",
    "df = pd.concat([df_sudeste, df_sul], ignore_index=True)\n",
    "df"
   ]
  }
 ],
 "metadata": {
  "kernelspec": {
   "display_name": "Python 3",
   "language": "python",
   "name": "python3"
  },
  "language_info": {
   "codemirror_mode": {
    "name": "ipython",
    "version": 3
   },
   "file_extension": ".py",
   "mimetype": "text/x-python",
   "name": "python",
   "nbconvert_exporter": "python",
   "pygments_lexer": "ipython3",
   "version": "3.11.9"
  }
 },
 "nbformat": 4,
 "nbformat_minor": 5
}
