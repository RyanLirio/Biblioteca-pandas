{
 "cells": [
  {
   "cell_type": "markdown",
   "metadata": {
    "id": "kJtGXdNgXzsy"
   },
   "source": [
    "Nesse material a gente vai lembrar das formas de normalização de um arquivo JSON transformando esse arquivo em um DataFrame manipulável."
   ]
  },
  {
   "cell_type": "markdown",
   "metadata": {
    "id": "7mqsFO3ikKpG"
   },
   "source": [
    "> ***Nota:*** *Todos os dados utilizados nos exemplos desse notebook são fictícios.*"
   ]
  },
  {
   "cell_type": "markdown",
   "metadata": {
    "id": "NNbJwEBcV6K1"
   },
   "source": [
    "Quando trabalhamos com arquivos JSON, é importante saber como os dados são dispostos em arquivos como esse:\n",
    "- Arquivos JSON armazenam dados em pares chave-valor (formato de dicionário) ou listas.\n",
    "- No `arquivo_1.json`, temos uma lista em que cada elemento é um dicionário que se refere a uma linha do conjunto de dados, mostrando as colunas e os dados.\n",
    "\n",
    "Vamos importar esse arquivo e transformá-lo em um dataframe!\n",
    "\n",
    "Utilizaremos a biblioteca [`pandas`](https://pandas.pydata.org/docs/) para ler o arquivo JSON."
   ]
  },
  {
   "cell_type": "code",
   "execution_count": 2,
   "metadata": {
    "id": "YVnmVkrwnL6R"
   },
   "outputs": [],
   "source": [
    "import pandas as pd"
   ]
  },
  {
   "cell_type": "markdown",
   "metadata": {
    "id": "-5H-gnFUgWjz"
   },
   "source": [
    "Lemos o arquivo JSON com a funcionalidade [`pd.read_json`](https://pandas.pydata.org/docs/reference/api/pandas.read_json.html)"
   ]
  },
  {
   "cell_type": "code",
   "execution_count": 4,
   "metadata": {
    "colab": {
     "base_uri": "https://localhost:8080/",
     "height": 143
    },
    "executionInfo": {
     "elapsed": 280,
     "status": "ok",
     "timestamp": 1736529400621,
     "user": {
      "displayName": "Mirla Borges",
      "userId": "16057667184099544912"
     },
     "user_tz": 180
    },
    "id": "LjvTYrUloic-",
    "outputId": "e12ec703-bb92-4a5a-d1d5-100333af4b0f"
   },
   "outputs": [
    {
     "data": {
      "text/html": [
       "<div>\n",
       "<style scoped>\n",
       "    .dataframe tbody tr th:only-of-type {\n",
       "        vertical-align: middle;\n",
       "    }\n",
       "\n",
       "    .dataframe tbody tr th {\n",
       "        vertical-align: top;\n",
       "    }\n",
       "\n",
       "    .dataframe thead th {\n",
       "        text-align: right;\n",
       "    }\n",
       "</style>\n",
       "<table border=\"1\" class=\"dataframe\">\n",
       "  <thead>\n",
       "    <tr style=\"text-align: right;\">\n",
       "      <th></th>\n",
       "      <th>id_vendedor</th>\n",
       "      <th>id_cliente</th>\n",
       "      <th>produto</th>\n",
       "      <th>quantidade</th>\n",
       "      <th>valor_unitario</th>\n",
       "      <th>valor_total</th>\n",
       "    </tr>\n",
       "  </thead>\n",
       "  <tbody>\n",
       "    <tr>\n",
       "      <th>0</th>\n",
       "      <td>101</td>\n",
       "      <td>1001</td>\n",
       "      <td>Notebook</td>\n",
       "      <td>1</td>\n",
       "      <td>3500</td>\n",
       "      <td>3500</td>\n",
       "    </tr>\n",
       "    <tr>\n",
       "      <th>1</th>\n",
       "      <td>102</td>\n",
       "      <td>1002</td>\n",
       "      <td>Smartphone</td>\n",
       "      <td>2</td>\n",
       "      <td>1200</td>\n",
       "      <td>2400</td>\n",
       "    </tr>\n",
       "    <tr>\n",
       "      <th>2</th>\n",
       "      <td>103</td>\n",
       "      <td>1003</td>\n",
       "      <td>Monitor</td>\n",
       "      <td>3</td>\n",
       "      <td>800</td>\n",
       "      <td>2400</td>\n",
       "    </tr>\n",
       "  </tbody>\n",
       "</table>\n",
       "</div>"
      ],
      "text/plain": [
       "   id_vendedor  id_cliente     produto  quantidade  valor_unitario  \\\n",
       "0          101        1001    Notebook           1            3500   \n",
       "1          102        1002  Smartphone           2            1200   \n",
       "2          103        1003     Monitor           3             800   \n",
       "\n",
       "   valor_total  \n",
       "0         3500  \n",
       "1         2400  \n",
       "2         2400  "
      ]
     },
     "execution_count": 4,
     "metadata": {},
     "output_type": "execute_result"
    }
   ],
   "source": [
    "df = pd.read_json('Dados/arquivo_1.json')\n",
    "df"
   ]
  },
  {
   "cell_type": "markdown",
   "metadata": {
    "id": "iZ3Y_MmXgTd0"
   },
   "source": [
    "Então conseguimos ter o resultado final.\n",
    "\n",
    "Arquivos JSON, dependendo de como forem criados, podem ter informações aninhadas em níveis. Essa estrutura pode ser observada no `arquivo_2.json`.\n",
    "- No `arquivo_2` temos a situação de um JSON aninhado com dois níveis de chaves.\n",
    "- A função `pd.read_json` não vai transformar corretamente esse arquivo em um dataframe por que essa função só considera o primeiro nível de uma arquivo JSON."
   ]
  },
  {
   "cell_type": "code",
   "execution_count": 5,
   "metadata": {
    "colab": {
     "base_uri": "https://localhost:8080/",
     "height": 143
    },
    "executionInfo": {
     "elapsed": 273,
     "status": "ok",
     "timestamp": 1736529448659,
     "user": {
      "displayName": "Mirla Borges",
      "userId": "16057667184099544912"
     },
     "user_tz": 180
    },
    "id": "0AcuTp8JTXLy",
    "outputId": "1613e0b7-015c-404c-9caa-369fbac2f628"
   },
   "outputs": [
    {
     "data": {
      "text/html": [
       "<div>\n",
       "<style scoped>\n",
       "    .dataframe tbody tr th:only-of-type {\n",
       "        vertical-align: middle;\n",
       "    }\n",
       "\n",
       "    .dataframe tbody tr th {\n",
       "        vertical-align: top;\n",
       "    }\n",
       "\n",
       "    .dataframe thead th {\n",
       "        text-align: right;\n",
       "    }\n",
       "</style>\n",
       "<table border=\"1\" class=\"dataframe\">\n",
       "  <thead>\n",
       "    <tr style=\"text-align: right;\">\n",
       "      <th></th>\n",
       "      <th>id_vendedor</th>\n",
       "      <th>id_cliente</th>\n",
       "      <th>detalhes_compra</th>\n",
       "    </tr>\n",
       "  </thead>\n",
       "  <tbody>\n",
       "    <tr>\n",
       "      <th>0</th>\n",
       "      <td>101</td>\n",
       "      <td>1001</td>\n",
       "      <td>{'produto': 'Notebook', 'quantidade': 1, 'valo...</td>\n",
       "    </tr>\n",
       "    <tr>\n",
       "      <th>1</th>\n",
       "      <td>102</td>\n",
       "      <td>1002</td>\n",
       "      <td>{'produto': 'Smartphone', 'quantidade': 2, 'va...</td>\n",
       "    </tr>\n",
       "    <tr>\n",
       "      <th>2</th>\n",
       "      <td>103</td>\n",
       "      <td>1003</td>\n",
       "      <td>{'produto': 'Monitor', 'quantidade': 3, 'valor...</td>\n",
       "    </tr>\n",
       "  </tbody>\n",
       "</table>\n",
       "</div>"
      ],
      "text/plain": [
       "   id_vendedor  id_cliente                                    detalhes_compra\n",
       "0          101        1001  {'produto': 'Notebook', 'quantidade': 1, 'valo...\n",
       "1          102        1002  {'produto': 'Smartphone', 'quantidade': 2, 'va...\n",
       "2          103        1003  {'produto': 'Monitor', 'quantidade': 3, 'valor..."
      ]
     },
     "execution_count": 5,
     "metadata": {},
     "output_type": "execute_result"
    }
   ],
   "source": [
    "df = pd.read_json('Dados/arquivo_2.json')\n",
    "df"
   ]
  },
  {
   "cell_type": "markdown",
   "metadata": {
    "id": "yPYuuu8Nku2s"
   },
   "source": [
    "Para ter o dataframe ajustado corretamente, devemos aplicar a normalização.\n",
    "\n",
    "Para aplicar a normalização, usamos a função [`pd.json_normalize`](https://pandas.pydata.org/docs/reference/api/pandas.json_normalize.html) do pandas.\n",
    "\n",
    "Mas antes de ir direto para a aplicação dela, aqui vem uma **dica**:\n",
    "- Aplicar a normalização nesses casos de aninhamento pode ser mais trabalhoso se usarmos um dataframe, pois essa função recebe como argumento uma lista de dicionários, ou um dicionário, não um DataFrame Pandas.\n",
    "- Se quisermos muito usar um dataframe, teríamos que passar a coluna onde está acontecendo o problema e ainda concatenar a coluna no dataframe original.\n",
    "\n",
    "Então, seguiremos o modo mais tranquilo, que é fazer a leitura desse arquivo JSON e armazená-lo como uma lista Python."
   ]
  },
  {
   "cell_type": "markdown",
   "metadata": {
    "id": "lwJvA1JXnm4B"
   },
   "source": [
    "Usamos a biblioteca [`json`](https://docs.python.org/3/library/json.html#) para manipular arquivos JSON.\n",
    "\n",
    "Para ler o arquivo JSON, usamos a função [`json.load`](https://docs.python.org/3/library/json.html#json.load)"
   ]
  },
  {
   "cell_type": "code",
   "execution_count": 6,
   "metadata": {
    "id": "mRYNQquYTXEz"
   },
   "outputs": [],
   "source": [
    "import json"
   ]
  },
  {
   "cell_type": "code",
   "execution_count": 8,
   "metadata": {
    "colab": {
     "base_uri": "https://localhost:8080/"
    },
    "executionInfo": {
     "elapsed": 240,
     "status": "ok",
     "timestamp": 1736529541623,
     "user": {
      "displayName": "Mirla Borges",
      "userId": "16057667184099544912"
     },
     "user_tz": 180
    },
    "id": "62khHrdkVTDR",
    "outputId": "34ace5b9-b28a-4f57-c524-efae8866aa7e"
   },
   "outputs": [
    {
     "data": {
      "text/plain": [
       "[{'id_vendedor': 101,\n",
       "  'id_cliente': 1001,\n",
       "  'detalhes_compra': {'produto': 'Notebook',\n",
       "   'quantidade': 1,\n",
       "   'valor_unitario': 3500.0,\n",
       "   'valor_total': 3500.0}},\n",
       " {'id_vendedor': 102,\n",
       "  'id_cliente': 1002,\n",
       "  'detalhes_compra': {'produto': 'Smartphone',\n",
       "   'quantidade': 2,\n",
       "   'valor_unitario': 1200.0,\n",
       "   'valor_total': 2400.0}},\n",
       " {'id_vendedor': 103,\n",
       "  'id_cliente': 1003,\n",
       "  'detalhes_compra': {'produto': 'Monitor',\n",
       "   'quantidade': 3,\n",
       "   'valor_unitario': 800.0,\n",
       "   'valor_total': 2400.0}}]"
      ]
     },
     "execution_count": 8,
     "metadata": {},
     "output_type": "execute_result"
    }
   ],
   "source": [
    "with open('Dados/arquivo_2.json', 'r') as arquivo:\n",
    "    dados = json.load(arquivo)\n",
    "dados"
   ]
  },
  {
   "cell_type": "markdown",
   "metadata": {
    "id": "9FdF-PKCoOZL"
   },
   "source": [
    "Para transformar isso em um DataFrame, basta enviar `dados` à função [`json_normalize`](https://pandas.pydata.org/docs/reference/api/pandas.json_normalize.html)."
   ]
  },
  {
   "cell_type": "code",
   "execution_count": 9,
   "metadata": {
    "colab": {
     "base_uri": "https://localhost:8080/",
     "height": 163
    },
    "executionInfo": {
     "elapsed": 276,
     "status": "ok",
     "timestamp": 1736529556010,
     "user": {
      "displayName": "Mirla Borges",
      "userId": "16057667184099544912"
     },
     "user_tz": 180
    },
    "id": "JisvVlQuVT0p",
    "outputId": "83fa91d3-45d9-499f-876d-a3dc769ac39e"
   },
   "outputs": [
    {
     "data": {
      "text/html": [
       "<div>\n",
       "<style scoped>\n",
       "    .dataframe tbody tr th:only-of-type {\n",
       "        vertical-align: middle;\n",
       "    }\n",
       "\n",
       "    .dataframe tbody tr th {\n",
       "        vertical-align: top;\n",
       "    }\n",
       "\n",
       "    .dataframe thead th {\n",
       "        text-align: right;\n",
       "    }\n",
       "</style>\n",
       "<table border=\"1\" class=\"dataframe\">\n",
       "  <thead>\n",
       "    <tr style=\"text-align: right;\">\n",
       "      <th></th>\n",
       "      <th>id_vendedor</th>\n",
       "      <th>id_cliente</th>\n",
       "      <th>detalhes_compra.produto</th>\n",
       "      <th>detalhes_compra.quantidade</th>\n",
       "      <th>detalhes_compra.valor_unitario</th>\n",
       "      <th>detalhes_compra.valor_total</th>\n",
       "    </tr>\n",
       "  </thead>\n",
       "  <tbody>\n",
       "    <tr>\n",
       "      <th>0</th>\n",
       "      <td>101</td>\n",
       "      <td>1001</td>\n",
       "      <td>Notebook</td>\n",
       "      <td>1</td>\n",
       "      <td>3500.0</td>\n",
       "      <td>3500.0</td>\n",
       "    </tr>\n",
       "    <tr>\n",
       "      <th>1</th>\n",
       "      <td>102</td>\n",
       "      <td>1002</td>\n",
       "      <td>Smartphone</td>\n",
       "      <td>2</td>\n",
       "      <td>1200.0</td>\n",
       "      <td>2400.0</td>\n",
       "    </tr>\n",
       "    <tr>\n",
       "      <th>2</th>\n",
       "      <td>103</td>\n",
       "      <td>1003</td>\n",
       "      <td>Monitor</td>\n",
       "      <td>3</td>\n",
       "      <td>800.0</td>\n",
       "      <td>2400.0</td>\n",
       "    </tr>\n",
       "  </tbody>\n",
       "</table>\n",
       "</div>"
      ],
      "text/plain": [
       "   id_vendedor  id_cliente detalhes_compra.produto  \\\n",
       "0          101        1001                Notebook   \n",
       "1          102        1002              Smartphone   \n",
       "2          103        1003                 Monitor   \n",
       "\n",
       "   detalhes_compra.quantidade  detalhes_compra.valor_unitario  \\\n",
       "0                           1                          3500.0   \n",
       "1                           2                          1200.0   \n",
       "2                           3                           800.0   \n",
       "\n",
       "   detalhes_compra.valor_total  \n",
       "0                       3500.0  \n",
       "1                       2400.0  \n",
       "2                       2400.0  "
      ]
     },
     "execution_count": 9,
     "metadata": {},
     "output_type": "execute_result"
    }
   ],
   "source": [
    "df = pd.json_normalize(dados)\n",
    "df"
   ]
  },
  {
   "cell_type": "markdown",
   "metadata": {
    "id": "SVTtGFdKpYTl"
   },
   "source": [
    "As colunas aninhadas em `detalhes_compra` recebem o prefixo do nome da coluna `detalhes_compra` seguido de um `.`. Isso é o padrão da função, mas pode ser alterado através do parâmetro `sep`, conforme informado na documentação. Exemplo:\n",
    "\n",
    "```python\n",
    "df = pd.json_normalize(dados, sep='_')\n",
    "df\n",
    "```\n",
    "\n",
    "Na **saída**, percebemos que o separador das colunas novas é o `'_'`:\n",
    "\n",
    "|    |   id_vendedor |   id_cliente | detalhes_compra_produto   |   detalhes_compra_quantidade |   detalhes_compra_valor_unitario |   detalhes_compra_valor_total |\n",
    "|---:|--------------:|-------------:|:--------------------------|-----------------------------:|---------------------------------:|------------------------------:|\n",
    "|  0 |           101 |         1001 | Notebook                  |                            1 |                             3500 |                          3500 |\n",
    "|  1 |           102 |         1002 | Smartphone                |                            2 |                             1200 |                          2400 |\n",
    "|  2 |           103 |         1003 | Monitor                   |                            3 |"
   ]
  },
  {
   "cell_type": "markdown",
   "metadata": {
    "id": "T06qhzfkrf8V"
   },
   "source": [
    "Um último detalhe sobre a normalização de arquivos JSON é o comportamento da função `pd.json_normalize` quando se depara com uma estrutura que contém listas, como a mostrada abaixo:"
   ]
  },
  {
   "cell_type": "code",
   "execution_count": 10,
   "metadata": {
    "id": "5RL63PNQqnFK"
   },
   "outputs": [],
   "source": [
    "dados = [\n",
    "            {\n",
    "                \"id_vendedor\": 101,\n",
    "                \"id_cliente\": 1001,\n",
    "                \"compras\": [\n",
    "                    {\"produto\": \"Notebook\", \"quantidade\": 1, \"valor_unitario\": 3500.00, \"valor_total\": 3500.00},\n",
    "                    {\"produto\": \"Mouse\", \"quantidade\": 2, \"valor_unitario\": 50.00, \"valor_total\": 100.00}\n",
    "                ]\n",
    "            },\n",
    "            {\n",
    "                \"id_vendedor\": 102,\n",
    "                \"id_cliente\": 1002,\n",
    "                \"compras\": [\n",
    "                    {\"produto\": \"Smartphone\", \"quantidade\": 1, \"valor_unitario\": 1200.00, \"valor_total\": 1200.00},\n",
    "                    {\"produto\": \"Fone de Ouvido\", \"quantidade\": 1, \"valor_unitario\": 200.00, \"valor_total\": 200.00}\n",
    "                ]\n",
    "            }\n",
    "        ]"
   ]
  },
  {
   "cell_type": "markdown",
   "metadata": {
    "id": "dWA-35DlRHU1"
   },
   "source": [
    "Se tentarmos transformar esses dados diretamente em um DataFrame:"
   ]
  },
  {
   "cell_type": "code",
   "execution_count": 11,
   "metadata": {
    "colab": {
     "base_uri": "https://localhost:8080/",
     "height": 125
    },
    "executionInfo": {
     "elapsed": 243,
     "status": "ok",
     "timestamp": 1736529605598,
     "user": {
      "displayName": "Mirla Borges",
      "userId": "16057667184099544912"
     },
     "user_tz": 180
    },
    "id": "BzR85xVlsJWp",
    "outputId": "15db156d-8ec1-40e7-e390-37efc84ebaaf"
   },
   "outputs": [
    {
     "data": {
      "text/html": [
       "<div>\n",
       "<style scoped>\n",
       "    .dataframe tbody tr th:only-of-type {\n",
       "        vertical-align: middle;\n",
       "    }\n",
       "\n",
       "    .dataframe tbody tr th {\n",
       "        vertical-align: top;\n",
       "    }\n",
       "\n",
       "    .dataframe thead th {\n",
       "        text-align: right;\n",
       "    }\n",
       "</style>\n",
       "<table border=\"1\" class=\"dataframe\">\n",
       "  <thead>\n",
       "    <tr style=\"text-align: right;\">\n",
       "      <th></th>\n",
       "      <th>id_vendedor</th>\n",
       "      <th>id_cliente</th>\n",
       "      <th>compras</th>\n",
       "    </tr>\n",
       "  </thead>\n",
       "  <tbody>\n",
       "    <tr>\n",
       "      <th>0</th>\n",
       "      <td>101</td>\n",
       "      <td>1001</td>\n",
       "      <td>[{'produto': 'Notebook', 'quantidade': 1, 'val...</td>\n",
       "    </tr>\n",
       "    <tr>\n",
       "      <th>1</th>\n",
       "      <td>102</td>\n",
       "      <td>1002</td>\n",
       "      <td>[{'produto': 'Smartphone', 'quantidade': 1, 'v...</td>\n",
       "    </tr>\n",
       "  </tbody>\n",
       "</table>\n",
       "</div>"
      ],
      "text/plain": [
       "   id_vendedor  id_cliente                                            compras\n",
       "0          101        1001  [{'produto': 'Notebook', 'quantidade': 1, 'val...\n",
       "1          102        1002  [{'produto': 'Smartphone', 'quantidade': 1, 'v..."
      ]
     },
     "execution_count": 11,
     "metadata": {},
     "output_type": "execute_result"
    }
   ],
   "source": [
    "df = pd.json_normalize(dados)\n",
    "df"
   ]
  },
  {
   "cell_type": "markdown",
   "metadata": {
    "id": "KNOM7GdasbA-"
   },
   "source": [
    "O resultado não incluirá a expansão da lista em `compras`. Isso acontece porque `pd.json_normalize` expande somente estruturas do tipo dicionário. Quando encontra uma lista, ele não consegue continuar a transformação.\n",
    "\n",
    "Para resolver esse problema, podemos usar o parâmetro `record_path`, especificando o nome da coluna que contém a lista a ser expandida.\n",
    "\n",
    "**Atenção:** Ao usar apenas o parâmetro `record_path`, podemos perder as colunas de nível superior, como `id_vendedor` e `id_cliente`. Vamos verificar esse comportamento:"
   ]
  },
  {
   "cell_type": "code",
   "execution_count": 12,
   "metadata": {
    "colab": {
     "base_uri": "https://localhost:8080/",
     "height": 174
    },
    "executionInfo": {
     "elapsed": 5,
     "status": "ok",
     "timestamp": 1736529652557,
     "user": {
      "displayName": "Mirla Borges",
      "userId": "16057667184099544912"
     },
     "user_tz": 180
    },
    "id": "mt-IzuYitU7s",
    "outputId": "0a70e6c3-15b2-473a-efd7-826f45b423fa"
   },
   "outputs": [
    {
     "data": {
      "text/html": [
       "<div>\n",
       "<style scoped>\n",
       "    .dataframe tbody tr th:only-of-type {\n",
       "        vertical-align: middle;\n",
       "    }\n",
       "\n",
       "    .dataframe tbody tr th {\n",
       "        vertical-align: top;\n",
       "    }\n",
       "\n",
       "    .dataframe thead th {\n",
       "        text-align: right;\n",
       "    }\n",
       "</style>\n",
       "<table border=\"1\" class=\"dataframe\">\n",
       "  <thead>\n",
       "    <tr style=\"text-align: right;\">\n",
       "      <th></th>\n",
       "      <th>produto</th>\n",
       "      <th>quantidade</th>\n",
       "      <th>valor_unitario</th>\n",
       "      <th>valor_total</th>\n",
       "    </tr>\n",
       "  </thead>\n",
       "  <tbody>\n",
       "    <tr>\n",
       "      <th>0</th>\n",
       "      <td>Notebook</td>\n",
       "      <td>1</td>\n",
       "      <td>3500.0</td>\n",
       "      <td>3500.0</td>\n",
       "    </tr>\n",
       "    <tr>\n",
       "      <th>1</th>\n",
       "      <td>Mouse</td>\n",
       "      <td>2</td>\n",
       "      <td>50.0</td>\n",
       "      <td>100.0</td>\n",
       "    </tr>\n",
       "    <tr>\n",
       "      <th>2</th>\n",
       "      <td>Smartphone</td>\n",
       "      <td>1</td>\n",
       "      <td>1200.0</td>\n",
       "      <td>1200.0</td>\n",
       "    </tr>\n",
       "    <tr>\n",
       "      <th>3</th>\n",
       "      <td>Fone de Ouvido</td>\n",
       "      <td>1</td>\n",
       "      <td>200.0</td>\n",
       "      <td>200.0</td>\n",
       "    </tr>\n",
       "  </tbody>\n",
       "</table>\n",
       "</div>"
      ],
      "text/plain": [
       "          produto  quantidade  valor_unitario  valor_total\n",
       "0        Notebook           1          3500.0       3500.0\n",
       "1           Mouse           2            50.0        100.0\n",
       "2      Smartphone           1          1200.0       1200.0\n",
       "3  Fone de Ouvido           1           200.0        200.0"
      ]
     },
     "execution_count": 12,
     "metadata": {},
     "output_type": "execute_result"
    }
   ],
   "source": [
    "df = pd.json_normalize(dados, record_path='compras')\n",
    "df"
   ]
  },
  {
   "cell_type": "markdown",
   "metadata": {
    "id": "5tNJ319Yt8F_"
   },
   "source": [
    "As colunas `id_vendedor` e `id_cliente` desaparecem! Para preservar essas informações, adicionamos o parâmetro `meta`, que define os campos de nível superior a serem mantidos no DataFrame:"
   ]
  },
  {
   "cell_type": "code",
   "execution_count": 13,
   "metadata": {
    "colab": {
     "base_uri": "https://localhost:8080/",
     "height": 174
    },
    "executionInfo": {
     "elapsed": 261,
     "status": "ok",
     "timestamp": 1736529677354,
     "user": {
      "displayName": "Mirla Borges",
      "userId": "16057667184099544912"
     },
     "user_tz": 180
    },
    "id": "4sjMNgM8uNKb",
    "outputId": "30a095d5-73fd-428f-cb86-1e99631ceff9"
   },
   "outputs": [
    {
     "data": {
      "text/html": [
       "<div>\n",
       "<style scoped>\n",
       "    .dataframe tbody tr th:only-of-type {\n",
       "        vertical-align: middle;\n",
       "    }\n",
       "\n",
       "    .dataframe tbody tr th {\n",
       "        vertical-align: top;\n",
       "    }\n",
       "\n",
       "    .dataframe thead th {\n",
       "        text-align: right;\n",
       "    }\n",
       "</style>\n",
       "<table border=\"1\" class=\"dataframe\">\n",
       "  <thead>\n",
       "    <tr style=\"text-align: right;\">\n",
       "      <th></th>\n",
       "      <th>produto</th>\n",
       "      <th>quantidade</th>\n",
       "      <th>valor_unitario</th>\n",
       "      <th>valor_total</th>\n",
       "      <th>id_vendedor</th>\n",
       "      <th>id_cliente</th>\n",
       "    </tr>\n",
       "  </thead>\n",
       "  <tbody>\n",
       "    <tr>\n",
       "      <th>0</th>\n",
       "      <td>Notebook</td>\n",
       "      <td>1</td>\n",
       "      <td>3500.0</td>\n",
       "      <td>3500.0</td>\n",
       "      <td>101</td>\n",
       "      <td>1001</td>\n",
       "    </tr>\n",
       "    <tr>\n",
       "      <th>1</th>\n",
       "      <td>Mouse</td>\n",
       "      <td>2</td>\n",
       "      <td>50.0</td>\n",
       "      <td>100.0</td>\n",
       "      <td>101</td>\n",
       "      <td>1001</td>\n",
       "    </tr>\n",
       "    <tr>\n",
       "      <th>2</th>\n",
       "      <td>Smartphone</td>\n",
       "      <td>1</td>\n",
       "      <td>1200.0</td>\n",
       "      <td>1200.0</td>\n",
       "      <td>102</td>\n",
       "      <td>1002</td>\n",
       "    </tr>\n",
       "    <tr>\n",
       "      <th>3</th>\n",
       "      <td>Fone de Ouvido</td>\n",
       "      <td>1</td>\n",
       "      <td>200.0</td>\n",
       "      <td>200.0</td>\n",
       "      <td>102</td>\n",
       "      <td>1002</td>\n",
       "    </tr>\n",
       "  </tbody>\n",
       "</table>\n",
       "</div>"
      ],
      "text/plain": [
       "          produto  quantidade  valor_unitario  valor_total id_vendedor  \\\n",
       "0        Notebook           1          3500.0       3500.0         101   \n",
       "1           Mouse           2            50.0        100.0         101   \n",
       "2      Smartphone           1          1200.0       1200.0         102   \n",
       "3  Fone de Ouvido           1           200.0        200.0         102   \n",
       "\n",
       "  id_cliente  \n",
       "0       1001  \n",
       "1       1001  \n",
       "2       1002  \n",
       "3       1002  "
      ]
     },
     "execution_count": 13,
     "metadata": {},
     "output_type": "execute_result"
    }
   ],
   "source": [
    "df = pd.json_normalize(dados, record_path='compras', meta = ['id_vendedor', 'id_cliente'])\n",
    "df"
   ]
  },
  {
   "cell_type": "markdown",
   "metadata": {
    "id": "58Wm5R0-uXP8"
   },
   "source": [
    "E isso é tudo que você precisa saber para importar arquivos JSON, normalizar suas estruturas e utilizá-los em seus projetos de Data Science.\n",
    "\n",
    "Agora é sua vez de praticar o conhecimento adquirido! Realize os exercícios e sinta-se à vontade para compartilhar o que aprendeu. Boas práticas!"
   ]
  }
 ],
 "metadata": {
  "colab": {
   "authorship_tag": "ABX9TyPi0fuowBKei9Z68MvRMMOT",
   "provenance": [
    {
     "file_id": "1ImhjHRvcXXrHEOtp1VkI1iVkRgHxxT2H",
     "timestamp": 1736438562776
    }
   ]
  },
  "kernelspec": {
   "display_name": "Python 3",
   "name": "python3"
  },
  "language_info": {
   "codemirror_mode": {
    "name": "ipython",
    "version": 3
   },
   "file_extension": ".py",
   "mimetype": "text/x-python",
   "name": "python",
   "nbconvert_exporter": "python",
   "pygments_lexer": "ipython3",
   "version": "3.11.9"
  }
 },
 "nbformat": 4,
 "nbformat_minor": 0
}
